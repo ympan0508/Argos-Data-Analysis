{
 "cells": [
  {
   "cell_type": "code",
   "execution_count": 1,
   "metadata": {},
   "outputs": [],
   "source": [
    "import sys\n",
    "\n",
    "sys.path.append(\"..\")"
   ]
  },
  {
   "cell_type": "code",
   "execution_count": null,
   "metadata": {},
   "outputs": [],
   "source": [
    "import os\n",
    "\n",
    "# ==== Set the environment variables for proxies if needed\n",
    "os.environ['http_proxy'] = \"\"\n",
    "os.environ['https_proxy'] = \"\""
   ]
  },
  {
   "cell_type": "code",
   "execution_count": null,
   "metadata": {},
   "outputs": [],
   "source": [
    "import argos.agent\n",
    "from argos import ArgosAgent, ArgosConfig\n",
    "\n",
    "# ==== Uncomment the next line to enable saving of client calls for debugging\n",
    "# ==== You can use ArgosAgent._client_calls to see the patched calls\n",
    "# argos.agent.MONKEY_PATCH_TO_SAVE_CALLS = True "
   ]
  },
  {
   "cell_type": "code",
   "execution_count": null,
   "metadata": {},
   "outputs": [],
   "source": [
    "config = ArgosConfig(\n",
    "    work_dir=\"../work/titanic\",\n",
    "    dataset_names=['train.csv', 'test.csv'],\n",
    "    question=\"I want to analyze the passenger information on the Titanic.\",\n",
    "    venv_dir=\"../work/venv\",\n",
    "    default_model_name=\"gpt-4o-mini\",\n",
    "    default_api_key=\"<your-openai-api-key>\", # replace this line with your OpenAI API key\n",
    "    default_base_url=\"https://<openai-endpoint>/v1\" # replace this line with your OpenAI endpoint\n",
    ")"
   ]
  },
  {
   "cell_type": "code",
   "execution_count": 5,
   "metadata": {},
   "outputs": [],
   "source": [
    "agent = ArgosAgent(config=config)"
   ]
  },
  {
   "cell_type": "code",
   "execution_count": null,
   "metadata": {},
   "outputs": [],
   "source": [
    "task_result = await agent.run(print_to_console=True)\n",
    "\n",
    "# ==== The temporary scripts, images, and other files are stored in the work_dir"
   ]
  },
  {
   "cell_type": "code",
   "execution_count": null,
   "metadata": {},
   "outputs": [],
   "source": [
    "await agent.save_task_result()"
   ]
  },
  {
   "cell_type": "code",
   "execution_count": null,
   "metadata": {},
   "outputs": [],
   "source": [
    "await agent.save_data_report()"
   ]
  }
 ],
 "metadata": {
  "kernelspec": {
   "display_name": "Python 3",
   "language": "python",
   "name": "python3"
  },
  "language_info": {
   "codemirror_mode": {
    "name": "ipython",
    "version": 3
   },
   "file_extension": ".py",
   "mimetype": "text/x-python",
   "name": "python",
   "nbconvert_exporter": "python",
   "pygments_lexer": "ipython3",
   "version": "3.10.12"
  }
 },
 "nbformat": 4,
 "nbformat_minor": 2
}
