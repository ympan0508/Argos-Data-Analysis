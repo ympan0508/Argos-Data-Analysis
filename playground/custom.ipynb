{
 "cells": [
  {
   "cell_type": "code",
   "execution_count": 1,
   "metadata": {},
   "outputs": [],
   "source": [
    "import sys\n",
    "\n",
    "sys.path.append(\"..\")"
   ]
  },
  {
   "cell_type": "code",
   "execution_count": 2,
   "metadata": {},
   "outputs": [],
   "source": [
    "import os\n",
    "\n",
    "os.environ['http_proxy'] = \"\"\n",
    "os.environ['https_proxy'] = \"\""
   ]
  },
  {
   "cell_type": "code",
   "execution_count": null,
   "metadata": {},
   "outputs": [],
   "source": [
    "import argos.agent\n",
    "from argos import ArgosAgent, ArgosConfig, ModelConfig\n",
    "\n",
    "# ==== Uncomment the next line to enable saving of client calls for debugging\n",
    "# ==== You can use ArgosAgent._client_calls to see the calls made to the server\n",
    "# argos.agent.MONKEY_PATCH_TO_SAVE_CALLS = True "
   ]
  },
  {
   "cell_type": "code",
   "execution_count": null,
   "metadata": {},
   "outputs": [],
   "source": [
    "# ==== Here we show an example of setting up Argos on Qwen-series models\n",
    "# ==== The models are hosted on vLLM OpenAI-compatible servers\n",
    "\n",
    "config = ArgosConfig(\n",
    "    work_dir=\"../work/titanic\",\n",
    "    dataset_names=['train.csv', 'test.csv'],\n",
    "    question=\"I want to analyze the passenger information on the Titanic.\",\n",
    "    venv_dir=\"../work/venv\",\n",
    "    default_model_name=\"Qwen2.5-72B-Instruct\",\n",
    "    default_api_key=\"EMPTY\",\n",
    "    default_base_url=\"http://<host>:<port>/v1\",\n",
    ")\n",
    "\n",
    "coder_model_name = \"Qwen2.5-Coder-32B-Instruct\"\n",
    "coder_base_url = \"http://<host>:<port>/v1\"\n",
    "vl_model_name = \"Qwen2.5-VL-72B-Instruct\"\n",
    "vl_base_url = \"http://<host>:<port>/v1\"\n",
    "\n",
    "config.visual_coding_agent.model_name = coder_model_name\n",
    "config.visual_coding_agent.base_url = coder_base_url\n",
    "config.visual_coding_agent.remove_images = True  # This is a temporary solution, please refer to README for more details\n",
    "config.programmatic_coding_agent.model_name = coder_model_name\n",
    "config.programmatic_coding_agent.base_url = coder_base_url\n",
    "config.visual_reflector_agent.model_name = vl_model_name\n",
    "config.visual_reflector_agent.base_url = vl_base_url\n",
    "config.summarizing_agent.model_name = vl_model_name\n",
    "config.summarizing_agent.base_url = vl_base_url\n",
    "\n",
    "# ==== You can also save/load the config to/from a file\n",
    "# config.save(\"../config/qwen-series-large.json\")\n",
    "# config = ArgosConfig.load(\"../config/qwen-series-large.json\")\n"
   ]
  },
  {
   "cell_type": "code",
   "execution_count": 5,
   "metadata": {},
   "outputs": [
    {
     "name": "stdout",
     "output_type": "stream",
     "text": [
      "Monkey patching openai client to remove images for client: visual_coding_agent\n"
     ]
    }
   ],
   "source": [
    "agent = ArgosAgent(config=config)"
   ]
  },
  {
   "cell_type": "code",
   "execution_count": null,
   "metadata": {},
   "outputs": [],
   "source": [
    "task_result = await agent.run(print_to_console=True)\n",
    "\n",
    "# ==== The temporary scripts, images, and other files are stored in the work_dir"
   ]
  },
  {
   "cell_type": "code",
   "execution_count": null,
   "metadata": {},
   "outputs": [],
   "source": [
    "await agent.save_task_result()"
   ]
  },
  {
   "cell_type": "code",
   "execution_count": null,
   "metadata": {},
   "outputs": [],
   "source": [
    "await agent.save_data_report()"
   ]
  }
 ],
 "metadata": {
  "kernelspec": {
   "display_name": "Python 3",
   "language": "python",
   "name": "python3"
  },
  "language_info": {
   "codemirror_mode": {
    "name": "ipython",
    "version": 3
   },
   "file_extension": ".py",
   "mimetype": "text/x-python",
   "name": "python",
   "nbconvert_exporter": "python",
   "pygments_lexer": "ipython3",
   "version": "3.10.12"
  }
 },
 "nbformat": 4,
 "nbformat_minor": 2
}
